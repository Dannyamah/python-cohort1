{
 "cells": [
  {
   "cell_type": "markdown",
   "id": "d127b070",
   "metadata": {},
   "source": [
    "### Numpy\n",
    "Numpy is a powerful Python library for numerical computations, especially useful for working with arrays (lists of numbers) and performing fast mathematical operations. It's a foundation for data manipulation, often used alongside Pandas and is great for taks like calculations, statistics and handling crypto-related data. Below, I'll walk you through the basic step by step - Installing Numpy, creating arrays and performing common operations with simple code. Thi is beginner friendly and straightforward"
   ]
  },
  {
   "cell_type": "code",
   "execution_count": 7,
   "id": "b4f38eed",
   "metadata": {},
   "outputs": [],
   "source": [
    "import numpy as np "
   ]
  },
  {
   "cell_type": "markdown",
   "id": "1743cf8f",
   "metadata": {},
   "source": [
    "### Create a Numpy Array\n",
    "\n",
    "A Numpy array is like a list but optimized for math and faster operations. Let's create arrays with sample cryptocurrency data (e.g, coin prices and trade volumes)\n"
   ]
  },
  {
   "cell_type": "code",
   "execution_count": null,
   "id": "5b3bf139",
   "metadata": {},
   "outputs": [
    {
     "name": "stdout",
     "output_type": "stream",
     "text": [
      "[45000 50000  4000 20000]\n"
     ]
    }
   ],
   "source": [
    "prices = np.array([45000, 50000, 4000, 20000])\n",
    "print(prices)\n"
   ]
  },
  {
   "cell_type": "code",
   "execution_count": null,
   "id": "f9a87f74",
   "metadata": {},
   "outputs": [
    {
     "name": "stdout",
     "output_type": "stream",
     "text": [
      "(4,)\n"
     ]
    }
   ],
   "source": [
    "print(prices.shape) # Number of Eleents in the Array"
   ]
  },
  {
   "cell_type": "code",
   "execution_count": 11,
   "id": "9cf1fc39",
   "metadata": {},
   "outputs": [
    {
     "name": "stdout",
     "output_type": "stream",
     "text": [
      "int64\n"
     ]
    }
   ],
   "source": [
    "# Data Type\n",
    "\n",
    "print(prices.dtype)"
   ]
  },
  {
   "cell_type": "markdown",
   "id": "5685d947",
   "metadata": {},
   "source": [
    "### Basic Data Manipulation"
   ]
  },
  {
   "cell_type": "code",
   "execution_count": 15,
   "id": "16abd521",
   "metadata": {},
   "outputs": [
    {
     "name": "stdout",
     "output_type": "stream",
     "text": [
      "[46000 51000 41000 21000]\n"
     ]
    }
   ],
   "source": [
    "# Add 1000 to all prices\n",
    "\n",
    "prices = np.array([45000, 50000, 40000, 20000])\n",
    "\n",
    "prices_plus_100 = prices + 1000\n",
    "\n",
    "print(prices_plus_100)"
   ]
  },
  {
   "cell_type": "code",
   "execution_count": 16,
   "id": "7ba9b1ea",
   "metadata": {},
   "outputs": [
    {
     "name": "stdout",
     "output_type": "stream",
     "text": [
      "[45001.02 50001.02 40001.02 20001.02]\n"
     ]
    }
   ],
   "source": [
    "# Compute for 2% Increase in Price\n",
    "\n",
    "price_s = np.array([46000, 51000, 41000, 21000])\n",
    "\n",
    "price_increase_2 = prices + 1.02\n",
    "\n",
    "print(price_increase_2)"
   ]
  },
  {
   "cell_type": "code",
   "execution_count": 17,
   "id": "a35710cd",
   "metadata": {},
   "outputs": [
    {
     "name": "stdout",
     "output_type": "stream",
     "text": [
      "[46000 51000 41000 21000]\n"
     ]
    }
   ],
   "source": [
    "# Filter Data\n",
    "\n",
    "higher_prices = price_s[price_s > 20000]\n",
    "print(higher_prices)"
   ]
  },
  {
   "cell_type": "markdown",
   "id": "2fef3508",
   "metadata": {},
   "source": [
    "### Basic Statistical Functions"
   ]
  },
  {
   "cell_type": "code",
   "execution_count": 18,
   "id": "4a79cd31",
   "metadata": {},
   "outputs": [
    {
     "name": "stdout",
     "output_type": "stream",
     "text": [
      "\n",
      "Statistics For Volume\n",
      "Mean (Average):  275000.0\n",
      "Minimum Volume: 100000\n",
      "Maximum Volume: 500000\n",
      "Total Volume: 1100000\n",
      "Volatility: 147901.9945774904\n"
     ]
    }
   ],
   "source": [
    "volume = np.array([500000, 300000, 200000, 100000])\n",
    "\n",
    "print(\"\\nStatistics For Volume\")\n",
    "\n",
    "print(\"Mean (Average): \", np.mean(volume))  # Average Volume\n",
    "print(\"Minimum Volume:\", np.min(volume))  # Min Volume\n",
    "print(\"Maximum Volume:\", np.max(volume))  # Max Volume\n",
    "print(\"Total Volume:\", np.sum(volume))  # Sum of Volume\n",
    "print(\"Volatility:\", np.std(volume))  # Standard Deviation"
   ]
  },
  {
   "cell_type": "markdown",
   "id": "7885cb7d",
   "metadata": {},
   "source": [
    "### Working with 2D Arrays\n",
    "NumPy can hande multi-dimensional arrays. Let's combine our data into a 2D Array (Like a table)"
   ]
  },
  {
   "cell_type": "code",
   "execution_count": 19,
   "id": "cac538e0",
   "metadata": {},
   "outputs": [
    {
     "name": "stdout",
     "output_type": "stream",
     "text": [
      "[[45000  5000]\n",
      " [30000 28000]\n",
      " [11900  8943]]\n"
     ]
    }
   ],
   "source": [
    "crypto_data = np.array([\n",
    "    [45000, 5000],\n",
    "    [30000, 28000],\n",
    "    [11900, 8943],\n",
    "])\n",
    "\n",
    "print(crypto_data)"
   ]
  },
  {
   "cell_type": "code",
   "execution_count": null,
   "id": "7c5e5e0e",
   "metadata": {},
   "outputs": [
    {
     "data": {
      "text/plain": [
       "array([30000, 28000])"
      ]
     },
     "execution_count": 20,
     "metadata": {},
     "output_type": "execute_result"
    }
   ],
   "source": [
    "# Access Rows with Index\n",
    "\n",
    "crypto_data[1]"
   ]
  },
  {
   "cell_type": "code",
   "execution_count": 23,
   "id": "9084cb98",
   "metadata": {},
   "outputs": [
    {
     "data": {
      "text/plain": [
       "array([ 5000, 28000,  8943])"
      ]
     },
     "execution_count": 23,
     "metadata": {},
     "output_type": "execute_result"
    }
   ],
   "source": [
    "# Access Columns\n",
    "\n",
    "crypto_data[:, 1]"
   ]
  }
 ],
 "metadata": {
  "kernelspec": {
   "display_name": "pythonz",
   "language": "python",
   "name": "python3"
  },
  "language_info": {
   "codemirror_mode": {
    "name": "ipython",
    "version": 3
   },
   "file_extension": ".py",
   "mimetype": "text/x-python",
   "name": "python",
   "nbconvert_exporter": "python",
   "pygments_lexer": "ipython3",
   "version": "3.10.11"
  }
 },
 "nbformat": 4,
 "nbformat_minor": 5
}

{
 "cells": [
  {
   "cell_type": "markdown",
   "id": "54be9631",
   "metadata": {},
   "source": [
    "### Working with Files (CV, JSON)\n",
    "Reading and Writing Text Files\n",
    "What it is: Storing and retrieving data from files on your computer\n",
    "## Basic Operations\n",
    "- open(\"file.txt\") - Opens a file (needs to be closed after)\n",
    "- with open(...) - Better way (auto-closes files)\n",
    "\n",
    "## Modes:\n",
    "- \"r\" - Read (default)\n",
    "- \"w\" = Write (erases existing content)\n",
    "- \"a\" - Append (adds to end)\n",
    "- \"r+\" - Read and write"
   ]
  },
  {
   "cell_type": "code",
   "execution_count": 1,
   "id": "079226c7",
   "metadata": {},
   "outputs": [
    {
     "name": "stdout",
     "output_type": "stream",
     "text": [
      "Quod equidem non reprehendo;\n",
      "Lorem ipsum dolor sit amet, consectetur adipiscing elit. Quibus natura iure responderit non esse verum aliunde finem beate vivendi, a se principia rei gerendae peti; Quae enim adhuc protulisti, popularia sunt, ego autem a te elegantiora desidero. Duo Reges: constructio interrete. Tum Lucius: Mihi vero ista valde probata sunt, quod item fratri puto. Bestiarum vero nullum iudicium puto. Nihil enim iam habes, quod ad corpus referas; Deinde prima illa, quae in congressu solemus: Quid tu, inquit, huc? Et homini, qui ceteris animantibus plurimum praestat, praecipue a natura nihil datum esse dicemus?\n",
      "\n",
      "Iam id ipsum absurdum, maximum malum neglegi. Quod ea non occurrentia fingunt, vincunt Aristonem; Atqui perspicuum est hominem e corpore animoque constare, cum primae sint animi partes, secundae corporis. Fieri, inquam, Triari, nullo pacto potest, ut non dicas, quid non probes eius, a quo dissentias. Equidem e Cn. An dubium est, quin virtus ita maximam partem optineat in rebus humanis, ut reliquas obruat?\n",
      "\n",
      "Quis istum dolorem timet?\n",
      "Summus dolor plures dies manere non potest? Dicet pro me ipsa virtus nec dubitabit isti vestro beato M. Tubulum fuisse, qua illum, cuius is condemnatus est rogatione, P. Quod si ita sit, cur opera philosophiae sit danda nescio.\n",
      "\n",
      "Ex eorum enim scriptis et institutis cum omnis doctrina liberalis, omnis historia.\n",
      "Quod si ita est, sequitur id ipsum, quod te velle video, omnes semper beatos esse sapientes. Cum enim fertur quasi torrens oratio, quamvis multa cuiusque modi rapiat, nihil tamen teneas, nihil apprehendas, nusquam orationem rapidam coerceas. Ita redarguitur ipse a sese, convincunturque scripta eius probitate ipsius ac moribus. At quanta conantur! Mundum hunc omnem oppidum esse nostrum! Incendi igitur eos, qui audiunt, vides. Vide, ne magis, inquam, tuum fuerit, cum re idem tibi, quod mihi, videretur, non nova te rebus nomina inponere. Qui-vere falsone, quaerere mittimus-dicitur oculis se privasse; Si ista mala sunt, in quae potest incidere sapiens, sapientem esse non esse ad beate vivendum satis. At vero si ad vitem sensus accesserit, ut appetitum quendam habeat et per se ipsa moveatur, quid facturam putas?\n",
      "\n",
      "Quem si tenueris, non modo meum Ciceronem, sed etiam me ipsum abducas licebit.\n",
      "Stulti autem malorum memoria torquentur, sapientes bona praeterita grata recordatione renovata delectant.\n",
      "Esse enim quam vellet iniquus iustus poterat inpune.\n",
      "Quae autem natura suae primae institutionis oblita est?\n",
      "Verum tamen cum de rebus grandioribus dicas, ipsae res verba rapiunt;\n",
      "Hoc est non modo cor non habere, sed ne palatum quidem.\n",
      "Voluptatem cum summum bonum diceret, primum in eo ipso parum vidit, deinde hoc quoque alienum; Sed tu istuc dixti bene Latine, parum plane. Nam haec ipsa mihi erunt in promptu, quae modo audivi, nec ante aggrediar, quam te ab istis, quos dicis, instructum videro. Fatebuntur Stoici haec omnia dicta esse praeclare, neque eam causam Zenoni desciscendi fuisse. Non autem hoc: igitur ne illud quidem. Ratio quidem vestra sic cogit. Cum audissem Antiochum, Brute, ut solebam, cum M. An quod ita callida est, ut optime possit architectari voluptates?\n",
      "\n",
      "Idemne, quod iucunde?\n",
      "Haec mihi videtur delicatior, ut ita dicam, molliorque ratio, quam virtutis vis gravitasque postulat. Sed quoniam et advesperascit et mihi ad villam revertendum est, nunc quidem hactenus; Cuius ad naturam apta ratio vera illa et summa lex a philosophis dicitur. Neque solum ea communia, verum etiam paria esse dixerunt. Sed nunc, quod agimus; A mene tu?\n"
     ]
    }
   ],
   "source": [
    "# Working with file in python (Reading Mode)\n",
    "\n",
    "with open('sample.txt', 'r') as file: # Opens the file in read mode\n",
    "    content = file.read() # Read the entire content in the file\n",
    "    print(content)\n"
   ]
  },
  {
   "cell_type": "code",
   "execution_count": 2,
   "id": "60043b3d",
   "metadata": {},
   "outputs": [],
   "source": [
    "# Working with Files in Python (Write Mode)\n",
    "\n",
    "with open('sample.txt', 'w') as file:  # Opens file in the write mode\n",
    "    file.write(\"Hello World!\\n\")       # Write a line in the file\n",
    "    file.write(\"This is a test file. \\n\")"
   ]
  },
  {
   "cell_type": "code",
   "execution_count": 5,
   "id": "89695b4c",
   "metadata": {},
   "outputs": [],
   "source": [
    "# Working with Files in Python (Append Mode)\n",
    "\n",
    "with open('sample.txt', 'a') as file:\n",
    "    file.write(\"Appending a new line. \\n\")\n",
    "    file.write(\"This is another appended line. \\n\")"
   ]
  },
  {
   "cell_type": "code",
   "execution_count": 6,
   "id": "759934b7",
   "metadata": {},
   "outputs": [
    {
     "name": "stdout",
     "output_type": "stream",
     "text": [
      "Current content of the File: \n",
      "Hello World!\n",
      "This is a test file. \n",
      "Appending a new line. \n",
      "This is anoter appended line. \n",
      "Adding more content.\n",
      "Appending a new line. \n",
      "This is another appended line. \n",
      "\n"
     ]
    }
   ],
   "source": [
    "# Working with Files in Python (Read and Write Mode)\n",
    "\n",
    "with open('sample.txt', 'r+') as file:\n",
    "    content = file.read()\n",
    "    print(\"Current content of the File: \")\n",
    "    print(content)\n",
    "\n",
    "    file.write(\"Adding more content.\\n\")"
   ]
  },
  {
   "cell_type": "markdown",
   "id": "21adf441",
   "metadata": {},
   "source": [
    "### Working with CSV Files\n",
    "- CSV: Comma-Seperated Values (like simple Excel Files).\n",
    "- csv module:\n",
    "- csv.writer() - Writes data to CSV\n",
    "- cv.reader() - Reads CSV rows as lists.\n",
    "- csv.DictReader() - Reads rows as dictionaries"
   ]
  },
  {
   "cell_type": "code",
   "execution_count": 7,
   "id": "e6882b1f",
   "metadata": {},
   "outputs": [],
   "source": [
    "# Working with CSV Files\n",
    "\n",
    "import csv\n",
    "\n",
    "# Writing to CSV\n",
    "with open('data.csv', 'w', newline='') as csvfile:  # Open file in write mode\n",
    "    writer = csv.writer(csvfile)                    # Create the CV writer object\n",
    "    writer.writerow(['name', 'age', 'city'])        # Write Header Row\n",
    "    writer.writerow(['Alice', 30, 'New York'])      # Write Data Row\n",
    "    writer.writerow(['Bob', 25, 'Los Angeles'])     # Writing another data row\n",
    "\n",
    "\n"
   ]
  },
  {
   "cell_type": "code",
   "execution_count": 8,
   "id": "51ffba6e",
   "metadata": {},
   "outputs": [
    {
     "name": "stdout",
     "output_type": "stream",
     "text": [
      "['name', 'age', 'city']\n",
      "['Alice', '30', 'New York']\n",
      "['Bob', '25', 'Los Angeles']\n"
     ]
    }
   ],
   "source": [
    "# Working with CSV Files\n",
    "\n",
    "import csv\n",
    "\n",
    "with open('data.csv', 'r') as csvfile: # Open file in Read Mode\n",
    "    reader = csv.reader(csvfile)       # Create a CSV Reader Object\n",
    "    for row in reader:                 # Iterate through each row in the CSV\n",
    "        print(row)                     \n"
   ]
  },
  {
   "cell_type": "code",
   "execution_count": 9,
   "id": "fdb838fc",
   "metadata": {},
   "outputs": [
    {
     "name": "stdout",
     "output_type": "stream",
     "text": [
      "{'name': 'Alice', 'age': '30', 'city': 'New York'}\n",
      "{'name': 'Bob', 'age': '25', 'city': 'Los Angeles'}\n"
     ]
    }
   ],
   "source": [
    "# Working with CSV File\n",
    "\n",
    "# DictReader for reading CSV Files\n",
    "\n",
    "with open('data.csv', 'r') as csvfile:\n",
    "    reader = csv.DictReader(csvfile)\n",
    "    for row in reader:\n",
    "        print(row)"
   ]
  },
  {
   "cell_type": "markdown",
   "id": "a34a83a8",
   "metadata": {},
   "source": [
    "### Handling JSON Data\n",
    "JSON: Format for storing and exchanging data (like Python dictionaries).\n",
    "JSON Module:\n",
    "- json.dump() - Writes JSON to file\n",
    "- json.load() - Reads JSON from file\n",
    "- json.loads() - Reads JSON from string\n",
    "- json.dumps() - Converts Python object to JSON string"
   ]
  },
  {
   "cell_type": "code",
   "execution_count": 10,
   "id": "887643e0",
   "metadata": {},
   "outputs": [],
   "source": [
    "import json\n",
    "\n",
    "# Write JSON file\n",
    "\n",
    "data = {\n",
    "    'name': 'Alice',\n",
    "    'age': 30,\n",
    "    'city': 'New York'\n",
    "}\n",
    "\n",
    "with open('data.json', 'w') as jsonfile:\n",
    "    json.dump(data, jsonfile, indent=4)        # Write JSON data to the file with indentation\n",
    "\n",
    "    "
   ]
  },
  {
   "cell_type": "code",
   "execution_count": 11,
   "id": "b742c435",
   "metadata": {},
   "outputs": [
    {
     "name": "stdout",
     "output_type": "stream",
     "text": [
      "{'name': 'Alice', 'age': 30, 'city': 'New York'}\n"
     ]
    }
   ],
   "source": [
    "import json\n",
    "\n",
    "# Reading from JSON File\n",
    "\n",
    "with open('data.json', 'r') as jsonfile:\n",
    "    data = json.load(jsonfile)\n",
    "    print(data)"
   ]
  },
  {
   "cell_type": "code",
   "execution_count": 18,
   "id": "a17aaf7c",
   "metadata": {},
   "outputs": [
    {
     "name": "stdout",
     "output_type": "stream",
     "text": [
      "{'name': 'Alice', 'age': 30, 'city': 'New York'}\n"
     ]
    }
   ],
   "source": [
    "# Read JSON from String\n",
    "\n",
    "json_string = '{\"name\": \"Alice\", \"age\": 30, \"city\": \"New York\"}'\n",
    "\n",
    "data = json.loads(json_string)  # Parse JSON string into Python Dictionary\n",
    "print(data)"
   ]
  },
  {
   "cell_type": "code",
   "execution_count": null,
   "id": "86653b57",
   "metadata": {},
   "outputs": [
    {
     "name": "stdout",
     "output_type": "stream",
     "text": [
      "{\n",
      "    \"name\": \"Alice\",\n",
      "    \"age\": 30,\n",
      "    \"city\": \"New York\"\n",
      "}\n"
     ]
    }
   ],
   "source": [
    "# Use dump to Convert Python Object to JSON String\n",
    "\n",
    "data = {\n",
    "    'name': 'Alice',\n",
    "    'age': 30,\n",
    "    'city': 'New York'\n",
    "}\n",
    "\n",
    "json_string = json.dumps(data, indent=4)    # Convert Python Object to JSON String with Indentation\n",
    "print(json_string)"
   ]
  }
 ],
 "metadata": {
  "kernelspec": {
   "display_name": "pythonz",
   "language": "python",
   "name": "python3"
  },
  "language_info": {
   "codemirror_mode": {
    "name": "ipython",
    "version": 3
   },
   "file_extension": ".py",
   "mimetype": "text/x-python",
   "name": "python",
   "nbconvert_exporter": "python",
   "pygments_lexer": "ipython3",
   "version": "3.10.11"
  }
 },
 "nbformat": 4,
 "nbformat_minor": 5
}

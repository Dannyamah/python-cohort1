{
 "cells": [
  {
   "cell_type": "code",
   "execution_count": 1,
   "id": "9b5f2297",
   "metadata": {},
   "outputs": [],
   "source": [
    "# Functions, Classse and Modules\n",
    "\n",
    "# 1.: Functions in Python\n",
    "\n",
    "# A functions is a reusable block of code that performs a specific task. \n",
    "# Functions help reduce repitition and improve code organization\n",
    "\n"
   ]
  },
  {
   "cell_type": "code",
   "execution_count": 2,
   "id": "4f7aefb8",
   "metadata": {},
   "outputs": [
    {
     "ename": "NameError",
     "evalue": "name 'result' is not defined",
     "output_type": "error",
     "traceback": [
      "\u001b[1;31m---------------------------------------------------------------------------\u001b[0m",
      "\u001b[1;31mNameError\u001b[0m                                 Traceback (most recent call last)",
      "Cell \u001b[1;32mIn[2], line 6\u001b[0m\n\u001b[0;32m      3\u001b[0m \u001b[38;5;28;01mdef\u001b[39;00m\u001b[38;5;250m \u001b[39m\u001b[38;5;21mweb3\u001b[39m(crypto):\n\u001b[0;32m      4\u001b[0m     \u001b[38;5;28;01mreturn\u001b[39;00m result\n\u001b[1;32m----> 6\u001b[0m \u001b[43mweb3\u001b[49m\u001b[43m(\u001b[49m\u001b[38;5;124;43m'\u001b[39;49m\u001b[38;5;124;43mBTC\u001b[39;49m\u001b[38;5;124;43m'\u001b[39;49m\u001b[43m)\u001b[49m\n",
      "Cell \u001b[1;32mIn[2], line 4\u001b[0m, in \u001b[0;36mweb3\u001b[1;34m(crypto)\u001b[0m\n\u001b[0;32m      3\u001b[0m \u001b[38;5;28;01mdef\u001b[39;00m\u001b[38;5;250m \u001b[39m\u001b[38;5;21mweb3\u001b[39m(crypto):\n\u001b[1;32m----> 4\u001b[0m     \u001b[38;5;28;01mreturn\u001b[39;00m \u001b[43mresult\u001b[49m\n",
      "\u001b[1;31mNameError\u001b[0m: name 'result' is not defined"
     ]
    }
   ],
   "source": [
    "# Basic Syntax:\n",
    "\n",
    "def web3(crypto):\n",
    "    return result\n",
    "\n",
    "web3('BTC')"
   ]
  },
  {
   "cell_type": "code",
   "execution_count": null,
   "id": "49e4f145",
   "metadata": {},
   "outputs": [
    {
     "name": "stdout",
     "output_type": "stream",
     "text": [
      "The sum is 8\n"
     ]
    }
   ],
   "source": [
    "def add():\n",
    "    sum = 2 + 6\n",
    "    print(f\"The sum is {sum}\")\n",
    "\n",
    "add()"
   ]
  },
  {
   "cell_type": "markdown",
   "id": "0f626aaf",
   "metadata": {},
   "source": [
    "### Function Arguments and Parameters\n",
    "\n",
    "#### Type of Arguments\n",
    "- Positional Argument\n",
    "- Keyword Argument\n",
    "\n",
    "Positional: Matched by order.\n",
    "\n",
    "Keyword matched by name (e.g, func(name=\"Alice))\n",
    "*args: Accepts extra positional arguments as a tuple\n",
    "**kwargs: Accepts extra keyword arguments as a dictionary\n"
   ]
  },
  {
   "cell_type": "code",
   "execution_count": null,
   "id": "8b7b18cc",
   "metadata": {},
   "outputs": [
    {
     "name": "stdout",
     "output_type": "stream",
     "text": [
      "6\n"
     ]
    }
   ],
   "source": [
    "# Positional Argument\n",
    "\n",
    "def add_positional(a,b,c):\n",
    "    sum = a + b + c\n",
    "    return sum\n",
    "\n",
    "result = add_positional(1,2,3)\n",
    "print(result)"
   ]
  },
  {
   "cell_type": "code",
   "execution_count": null,
   "id": "a128649c",
   "metadata": {},
   "outputs": [
    {
     "name": "stdout",
     "output_type": "stream",
     "text": [
      "Name Bob\n",
      "Age 25\n"
     ]
    }
   ],
   "source": [
    "# Keyword Argument\n",
    "\n",
    "def add_keyword(name=\"Alice\", age=30):\n",
    "    print(\"Name\", name)\n",
    "    print(\"Age\", age)\n",
    "\n",
    "# add_keyword(name=\"Bob\", age=25)\n",
    "add_keyword(age=25, name=\"Bob\")"
   ]
  },
  {
   "cell_type": "code",
   "execution_count": null,
   "id": "26a91c7c",
   "metadata": {},
   "outputs": [
    {
     "name": "stdout",
     "output_type": "stream",
     "text": [
      "<class 'tuple'>\n",
      "1234567"
     ]
    }
   ],
   "source": [
    "# *args Arguments\n",
    "\n",
    "def add_args(*args):\n",
    "    print(type(args))\n",
    "    for num in args:\n",
    "        print(num, end=\"\")\n",
    "\n",
    "add_args(1,2,3,4,5,6,7)"
   ]
  },
  {
   "cell_type": "code",
   "execution_count": null,
   "id": "34515528",
   "metadata": {},
   "outputs": [
    {
     "name": "stdout",
     "output_type": "stream",
     "text": [
      "<class 'dict'>\n",
      "name: David\n",
      "age: 35\n",
      "city: New York\n"
     ]
    }
   ],
   "source": [
    "# **kwargs Argument\n",
    "\n",
    "def add_kwargs(**kwargs):\n",
    "    print(type(kwargs))\n",
    "    for key, value in kwargs.items():\n",
    "        print(f\"{key}: {value}\")\n",
    "\n",
    "add_kwargs(name=\"David\", age=35, city=\"New York\")"
   ]
  },
  {
   "cell_type": "code",
   "execution_count": null,
   "id": "a0ebb704",
   "metadata": {},
   "outputs": [],
   "source": [
    "# x = [2,4,5,6,7,8,10,11,5]\n",
    "\n",
    "def average(number):\n",
    "\n",
    "    total = 0\n",
    "    for i in number:\n",
    "        total += i\n",
    "\n",
    "    avg = total/len(number)\n",
    "\n",
    "    return avg\n"
   ]
  },
  {
   "cell_type": "code",
   "execution_count": null,
   "id": "72b91425",
   "metadata": {},
   "outputs": [
    {
     "name": "stdout",
     "output_type": "stream",
     "text": [
      "46.0\n"
     ]
    }
   ],
   "source": [
    "price = [1,33,44,55,66,77]\n",
    "\n",
    "avg = average(price)\n",
    "print(avg)"
   ]
  },
  {
   "cell_type": "code",
   "execution_count": 15,
   "id": "f431a670",
   "metadata": {},
   "outputs": [],
   "source": [
    "# Get Crypto Price Change Percentage \n",
    "# change = ((old_price - new_price) / old_price) * 100\n",
    "\n",
    "\n",
    "def calculate_price_changes(old_price, new_price):\n",
    "    change = ((new_price-old_price) / old_price) * 100\n",
    "    return round(change, 2)\n"
   ]
  },
  {
   "cell_type": "code",
   "execution_count": 16,
   "id": "ff8d4aae",
   "metadata": {},
   "outputs": [
    {
     "name": "stdout",
     "output_type": "stream",
     "text": [
      "BTC Price Change: 20.0%\n"
     ]
    }
   ],
   "source": [
    "btc_change = calculate_price_changes(100000, 120000)\n",
    "\n",
    "print(f\"BTC Price Change: {btc_change}%\")"
   ]
  },
  {
   "cell_type": "code",
   "execution_count": 19,
   "id": "331b106f",
   "metadata": {},
   "outputs": [
    {
     "name": "stdout",
     "output_type": "stream",
     "text": [
      "Bitcoin is currently trading at $110,000.00\n",
      "Ethereum is currently trading at $1,800.00\n"
     ]
    }
   ],
   "source": [
    "def format_crypto_prices(name, price, symbol=\"$\"):\n",
    "    return f\"{name} is currently trading at {symbol}{price:,.2f}\"\n",
    "\n",
    "print(format_crypto_prices(\"Bitcoin\", 110000))\n",
    "print(format_crypto_prices(\"Ethereum\", 1800, \"$\"))"
   ]
  }
 ],
 "metadata": {
  "kernelspec": {
   "display_name": "pythonz",
   "language": "python",
   "name": "python3"
  },
  "language_info": {
   "codemirror_mode": {
    "name": "ipython",
    "version": 3
   },
   "file_extension": ".py",
   "mimetype": "text/x-python",
   "name": "python",
   "nbconvert_exporter": "python",
   "pygments_lexer": "ipython3",
   "version": "3.10.11"
  }
 },
 "nbformat": 4,
 "nbformat_minor": 5
}

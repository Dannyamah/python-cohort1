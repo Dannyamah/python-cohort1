{
 "cells": [
  {
   "cell_type": "code",
   "execution_count": 3,
   "id": "e2b09028",
   "metadata": {},
   "outputs": [],
   "source": [
    "# Loops (for loop and while loop)\n",
    "\n",
    "# for loops: Repeat code for each item in a collection (like a list).\n",
    "# Example: For each fruit in the basket, print its name.\n",
    "\n",
    "# while loops: Repeat code while a condition is true.\n",
    "# Example: While hungry, keep eating."
   ]
  },
  {
   "cell_type": "code",
   "execution_count": 4,
   "id": "8446d79d",
   "metadata": {},
   "outputs": [
    {
     "name": "stdout",
     "output_type": "stream",
     "text": [
      "ADA\n",
      "SOL\n",
      "ETH\n"
     ]
    }
   ],
   "source": [
    "#  FOR LOOP - Loop over a list, string or range\n",
    "\n",
    "tokens = [\"ADA\", \"SOL\", \"ETH\"]\n",
    "\n",
    "for token in tokens:\n",
    "    print(token)"
   ]
  },
  {
   "cell_type": "code",
   "execution_count": 5,
   "id": "54b13dd9",
   "metadata": {},
   "outputs": [
    {
     "name": "stdout",
     "output_type": "stream",
     "text": [
      "44\n",
      "55\n",
      "66\n",
      "77\n"
     ]
    }
   ],
   "source": [
    "l1 = [44, 55, 66, 77]  # Iterable\n",
    "for item in l1:\n",
    "    print(item)"
   ]
  },
  {
   "cell_type": "code",
   "execution_count": 6,
   "id": "e31ffb7c",
   "metadata": {},
   "outputs": [
    {
     "name": "stdout",
     "output_type": "stream",
     "text": [
      "44\n",
      "99\n",
      "165\n",
      "242\n"
     ]
    }
   ],
   "source": [
    "# Doing Addition with FOR Loop\n",
    "# Type 1 Loop\n",
    "total = 0\n",
    "\n",
    "l1 = [44, 55, 66, 77]\n",
    "for i in l1:\n",
    "    total = total + i\n",
    "    print(total)"
   ]
  },
  {
   "cell_type": "code",
   "execution_count": 7,
   "id": "2cceae8e",
   "metadata": {},
   "outputs": [
    {
     "name": "stdout",
     "output_type": "stream",
     "text": [
      "The average is 60.5\n"
     ]
    }
   ],
   "source": [
    "#  For Average\n",
    "total = 0\n",
    "\n",
    "l1 = [44, 55, 66, 77]\n",
    "for i in l1:\n",
    "    total = total + i\n",
    "\n",
    "num = len(l1)\n",
    "\n",
    "average = total / num\n",
    "print(f\"The average is\", average)"
   ]
  },
  {
   "cell_type": "code",
   "execution_count": 8,
   "id": "02aac4a5",
   "metadata": {},
   "outputs": [
    {
     "name": "stdout",
     "output_type": "stream",
     "text": [
      "[0, 2, 4, 6, 8, 10, 12, 14, 16, 18, 20, 22, 24, 26, 28, 30, 32, 34, 36, 38, 40, 42, 44, 46, 48, 50, 52, 54, 56, 58, 60, 62, 64, 66, 68, 70, 72, 74, 76, 78, 80, 82, 84, 86, 88, 90, 92, 94, 96, 98]\n"
     ]
    }
   ],
   "source": [
    "# Type 2 Loop\n",
    "# Range\n",
    "\n",
    "l2 = []\n",
    "\n",
    "for i in range(100):\n",
    "    if i % 2 == 0:  # if i divided by 2 has no remainder\n",
    "        l2.append(i)\n",
    "\n",
    "print(l2)"
   ]
  },
  {
   "cell_type": "code",
   "execution_count": 9,
   "id": "66935539",
   "metadata": {},
   "outputs": [
    {
     "name": "stdout",
     "output_type": "stream",
     "text": [
      "44\n",
      "55\n",
      "66\n",
      "77\n",
      "88\n"
     ]
    }
   ],
   "source": [
    "#  Type 3 Loop\n",
    "\n",
    "l1 = [44, 55, 66, 77, 88]\n",
    "for i in range(len(l1)):\n",
    "    print(l1[i])"
   ]
  },
  {
   "cell_type": "code",
   "execution_count": 10,
   "id": "c4a37514",
   "metadata": {},
   "outputs": [
    {
     "name": "stdout",
     "output_type": "stream",
     "text": [
      "btc 120000\n",
      "eth 3100\n",
      "sol 160\n"
     ]
    }
   ],
   "source": [
    "#  Type 4 Loop\n",
    "# Using enumerate to get both index and value\n",
    "\n",
    "crypto_prices = {'btc': 120000, 'eth': 3100, 'sol': 160}\n",
    "for i in crypto_prices:\n",
    "    print(i, crypto_prices[i])"
   ]
  },
  {
   "cell_type": "code",
   "execution_count": 11,
   "id": "43ee500d",
   "metadata": {},
   "outputs": [
    {
     "name": "stdout",
     "output_type": "stream",
     "text": [
      "120000\n",
      "3100\n",
      "160\n"
     ]
    }
   ],
   "source": [
    "crypto_prices = {'btc': 120000, 'eth': 3100, 'sol': 160}\n",
    "for i in crypto_prices.values():\n",
    "    print(i)"
   ]
  },
  {
   "cell_type": "code",
   "execution_count": 12,
   "id": "82003eb3",
   "metadata": {},
   "outputs": [
    {
     "name": "stdout",
     "output_type": "stream",
     "text": [
      "10\n",
      "11\n",
      "12\n",
      "13\n",
      "14\n",
      "15\n",
      "16\n",
      "17\n",
      "18\n",
      "19\n"
     ]
    }
   ],
   "source": [
    "#  WHILE LOOP - Repeat code while a condition is true\n",
    "# Example: While the balance is greater than 0, keep withdrawing.\n",
    "\n",
    "i = 10\n",
    "while True:\n",
    "    if i == 20:\n",
    "        break\n",
    "    print(i)\n",
    "    i += 1  # Increment i to avoid infinite loop"
   ]
  },
  {
   "cell_type": "code",
   "execution_count": 13,
   "id": "1f4dbf34",
   "metadata": {},
   "outputs": [
    {
     "name": "stdout",
     "output_type": "stream",
     "text": [
      "21\n",
      "22\n",
      "23\n",
      "24\n",
      "25\n",
      "26\n",
      "27\n",
      "28\n",
      "29\n",
      "30\n",
      "31\n",
      "32\n",
      "33\n",
      "34\n",
      "35\n",
      "36\n",
      "37\n",
      "38\n",
      "39\n",
      "40\n",
      "41\n",
      "42\n",
      "43\n",
      "44\n",
      "45\n",
      "46\n",
      "47\n",
      "48\n",
      "49\n",
      "50\n",
      "51\n",
      "52\n",
      "53\n",
      "54\n",
      "55\n",
      "56\n",
      "57\n",
      "58\n",
      "59\n",
      "60\n",
      "61\n",
      "62\n",
      "63\n",
      "64\n",
      "65\n",
      "66\n",
      "67\n",
      "68\n",
      "69\n",
      "70\n",
      "71\n",
      "72\n",
      "73\n",
      "74\n",
      "75\n",
      "76\n",
      "77\n",
      "78\n",
      "79\n",
      "80\n",
      "81\n",
      "82\n",
      "83\n",
      "84\n",
      "85\n",
      "86\n",
      "87\n",
      "88\n",
      "89\n",
      "90\n",
      "91\n",
      "92\n",
      "93\n",
      "94\n",
      "95\n",
      "96\n",
      "97\n",
      "98\n",
      "99\n",
      "100\n",
      "101\n"
     ]
    }
   ],
   "source": [
    "\n",
    "even = []\n",
    "while True:\n",
    "    if i > 100:\n",
    "        break\n",
    "    i += 1\n",
    "    if i % 2 == 0:\n",
    "        even.append(i)\n",
    "    print(i)"
   ]
  },
  {
   "cell_type": "code",
   "execution_count": 1,
   "id": "9adc326e",
   "metadata": {},
   "outputs": [
    {
     "name": "stdout",
     "output_type": "stream",
     "text": [
      "3 x 1 = 3\n",
      "3 x 2 = 6\n",
      "3 x 3 = 9\n",
      "3 x 4 = 12\n",
      "3 x 5 = 15\n",
      "3 x 6 = 18\n",
      "3 x 7 = 21\n",
      "3 x 8 = 24\n",
      "3 x 9 = 27\n",
      "3 x 10 = 30\n"
     ]
    }
   ],
   "source": [
    "# For multiplication table of 3\n",
    "\n",
    "num1 = 3\n",
    "num2 = 1\n",
    "\n",
    "while True:\n",
    "    if num2 == 11:\n",
    "        break\n",
    "    print(num1, 'x', num2, '=', num1 * num2)\n",
    "\n",
    "    num2 += 1  # Increment num2 to avoid infinite loop\n"
   ]
  },
  {
   "cell_type": "code",
   "execution_count": null,
   "id": "8e22cf73",
   "metadata": {},
   "outputs": [
    {
     "name": "stdout",
     "output_type": "stream",
     "text": [
      "0\n",
      "1\n",
      "3\n",
      "4\n"
     ]
    }
   ],
   "source": [
    "#  Continue - Skips to the next iteration\n",
    "\n",
    "for i in range(5):\n",
    "    if i == 2:  # When it gets to this condition, it skips the loop and continues to the next condition\n",
    "        continue\n",
    "    print(i)"
   ]
  }
 ],
 "metadata": {
  "kernelspec": {
   "display_name": "pythonz",
   "language": "python",
   "name": "python3"
  },
  "language_info": {
   "codemirror_mode": {
    "name": "ipython",
    "version": 3
   },
   "file_extension": ".py",
   "mimetype": "text/x-python",
   "name": "python",
   "nbconvert_exporter": "python",
   "pygments_lexer": "ipython3",
   "version": "3.10.11"
  }
 },
 "nbformat": 4,
 "nbformat_minor": 5
}

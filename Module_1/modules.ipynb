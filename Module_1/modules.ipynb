{
 "cells": [
  {
   "cell_type": "markdown",
   "id": "2ae47350",
   "metadata": {},
   "source": [
    "### Modules\n",
    "\n",
    "A python module is a file containing Python code (e.g functions, variables, classes) that can be imported and reused in other programs. It organizes related code into a single file, making it easy to manage and share\n",
    "\n",
    "### Type of Modules\n",
    "\n",
    "Standard Module/Library: Built in"
   ]
  },
  {
   "cell_type": "code",
   "execution_count": 4,
   "id": "447c79e9",
   "metadata": {},
   "outputs": [],
   "source": [
    "import math\n",
    "import time\n",
    "import random\n",
    "import os\n",
    "import sys"
   ]
  },
  {
   "cell_type": "code",
   "execution_count": 2,
   "id": "ee91c3e6",
   "metadata": {},
   "outputs": [
    {
     "name": "stdout",
     "output_type": "stream",
     "text": [
      "The square root of 16 is 4.0\n"
     ]
    }
   ],
   "source": [
    "sqrt_value = math.sqrt(16)\n",
    "print(f\"The square root of 16 is {sqrt_value}\")"
   ]
  },
  {
   "cell_type": "code",
   "execution_count": null,
   "id": "06cc0a20",
   "metadata": {},
   "outputs": [],
   "source": [
    "time.sleep(2)"
   ]
  },
  {
   "cell_type": "code",
   "execution_count": 9,
   "id": "99fa0060",
   "metadata": {},
   "outputs": [
    {
     "name": "stdout",
     "output_type": "stream",
     "text": [
      "3\n"
     ]
    }
   ],
   "source": [
    "random_num = random.randint(1, 10)\n",
    "print(random_num)"
   ]
  },
  {
   "cell_type": "code",
   "execution_count": 10,
   "id": "f16bc720",
   "metadata": {},
   "outputs": [
    {
     "name": "stdout",
     "output_type": "stream",
     "text": [
      "3.10.11 (tags/v3.10.11:7d4cc5a, Apr  5 2023, 00:38:17) [MSC v.1929 64 bit (AMD64)]\n"
     ]
    }
   ],
   "source": [
    "python_ver = sys.version\n",
    "print(python_ver)"
   ]
  },
  {
   "cell_type": "markdown",
   "id": "504840b6",
   "metadata": {},
   "source": [
    "### 3rd Party Module\n",
    "Examples\n",
    "- pandas\n",
    "- web3\n",
    "- tweepy"
   ]
  },
  {
   "cell_type": "code",
   "execution_count": null,
   "id": "537027d9",
   "metadata": {},
   "outputs": [],
   "source": [
    "import pandas as pd\n",
    "import numpy as np\n",
    "import web3 "
   ]
  },
  {
   "cell_type": "markdown",
   "id": "5f911327",
   "metadata": {},
   "source": [
    "### Custom Modules\n",
    "How to create custom modules\n",
    "- Save your cript with .py extension"
   ]
  }
 ],
 "metadata": {
  "kernelspec": {
   "display_name": "pythonz",
   "language": "python",
   "name": "python3"
  },
  "language_info": {
   "codemirror_mode": {
    "name": "ipython",
    "version": 3
   },
   "file_extension": ".py",
   "mimetype": "text/x-python",
   "name": "python",
   "nbconvert_exporter": "python",
   "pygments_lexer": "ipython3",
   "version": "3.10.11"
  }
 },
 "nbformat": 4,
 "nbformat_minor": 5
}

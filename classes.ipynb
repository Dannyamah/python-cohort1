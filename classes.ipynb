{
 "cells": [
  {
   "cell_type": "markdown",
   "id": "39e9e7fe",
   "metadata": {},
   "source": [
    "# Classes\n",
    "\n",
    "Clases are blueprints for creating objects. An object is an instance of a class that can hold data (attributes) and perform actions (methods). Classes are ideal for modeling real-world entities, like a cryptocurrency or a portfolio.\n",
    "\n",
    "### Defining a Class\n",
    "-- Use the class keyword to define a class\n",
    "\n",
    "- Classes typically include:\n",
    "- Attributes: Variables that store data\n",
    "- Methods: Functions that define the behaviour of the class\n",
    "Constructor (_init_): A special method to intialize objects"
   ]
  },
  {
   "cell_type": "markdown",
   "id": "dfe54cdc",
   "metadata": {},
   "source": [
    "## What is a self in a CLass?\n",
    "\n",
    "-- Definition: Self is the first parameter in instance methods of a class. It represents the instance (object) on which the method is called. While self is not a reserved keyword in python, it's the standard convention for naming this parameter.\n",
    "\n",
    "-- Purpose: Self allows methods to:\n",
    "- Access and modify the instance's attributes\n",
    "- Call other methods of the same instance\n",
    "- Differentiate between instance-specific data and class-level data\n",
    "\n",
    "-- When used: Self is used in instance methods (not static or class methods) and in the init constructor to initialize instance attributes"
   ]
  },
  {
   "cell_type": "code",
   "execution_count": 1,
   "id": "3999a1c7",
   "metadata": {},
   "outputs": [],
   "source": [
    "# Defining a class\n",
    "\n",
    "class CryptoWallet: \n",
    "    # Constructor\n",
    "    def __init__(self, owner):\n",
    "        self.owner = owner\n",
    "        self.balance = {}\n",
    "\n",
    "    def deposit(self, token, amount): # We add self to allow us access attributes in the constructor\n",
    "        self.balance[token] = self.balance.get(token,0) + amount \n",
    "\n",
    "    def withdraw(self, token, amount):\n",
    "        if self.balance.get(token, 0) >= amount:\n",
    "            self.balance[token] -= amount\n",
    "            return True\n",
    "        else:\n",
    "            return False\n",
    "        \n",
    "    def view_balance(self):\n",
    "        return self.balance\n"
   ]
  },
  {
   "cell_type": "code",
   "execution_count": 2,
   "id": "c9765abb",
   "metadata": {},
   "outputs": [
    {
     "name": "stdout",
     "output_type": "stream",
     "text": [
      "{'ETH': 0.7, 'BTC': 0.1}\n"
     ]
    }
   ],
   "source": [
    "wallet = CryptoWallet(\"Joseph\")\n",
    "wallet.deposit(\"ETH\", 0.7)\n",
    "wallet.deposit(\"BTC\", 0.1)\n",
    "\n",
    "print(wallet.view_balance())"
   ]
  },
  {
   "cell_type": "code",
   "execution_count": 3,
   "id": "63790470",
   "metadata": {},
   "outputs": [
    {
     "name": "stdout",
     "output_type": "stream",
     "text": [
      "Withdrawal Successful\n",
      "{'ETH': 0.6, 'BTC': 0.1}\n"
     ]
    }
   ],
   "source": [
    "success = wallet.withdraw(\"ETH\", 0.1)\n",
    "print(\"Withdrawal Successful\")\n",
    "print(wallet.view_balance())"
   ]
  },
  {
   "cell_type": "code",
   "execution_count": 14,
   "id": "66028a83",
   "metadata": {},
   "outputs": [],
   "source": [
    "class Cryptocurrency:\n",
    "    \"\"\"Class to represent a cryptocurrency\"\"\"\n",
    "    def __init__(self, name, price, symbol, quantity):\n",
    "        self.name = name        # e.g Bitcoin\n",
    "        self.price = price      # current price in usd\n",
    "        self.symbol = symbol    # e.g BTC\n",
    "        self.quantity = quantity # amount held\n",
    "\n",
    "    def get_value(self):\n",
    "        \"\"\"Calculate the total value of the holding\"\"\"\n",
    "        return self.price * self.quantity\n",
    "    \n",
    "    def updated_price(self, new_price):\n",
    "        \"\"\"Update the cryptocurrency price\"\"\"\n",
    "        self.price = new_price\n",
    "\n",
    "class portfolio:\n",
    "    \"\"\"Class to manage a portfolio of cryptocurrency\"\"\"\n",
    "    def __init__(self):\n",
    "        self.holdings = {}      # dictionary to store crptocurrency\n",
    "\n",
    "    def add_crypto(self, crypto):\n",
    "        \"\"\"Add a cryptocurrency to the portfolio\"\"\"\n",
    "        self.holdings[crypto.symbol] = crypto\n",
    "\n",
    "    def get_total_value(self):\n",
    "        \"\"\"Calculates the total value of the portfolio\"\"\"\n",
    "        total = sum(crypto.get_value() for crypto in self.holdings.values())\n",
    "        return total\n",
    "\n",
    "    def get_holding(self, symbol):\n",
    "        \"\"\"Retrieves a cryptocurrency by it's symbol\"\"\"\n",
    "        return self.holdings.get(symbol, None)\n",
    "\n",
    "    def withdraw_crypto(self, symbol, quantity):\n",
    "        \"\"\"Withdraw a specified quantity of token\"\"\"\n",
    "\n",
    "        crypto = self.get_holding(symbol)\n",
    "\n",
    "        # Check if the cryptocurrency exists\n",
    "        if not crypto:\n",
    "            print(f\"Error: {symbol} not found in the portfolio\")\n",
    "            return False\n",
    "        \n",
    "        # Validate Quantity\n",
    "        if quantity <= 0:\n",
    "            print(f\"Error: Withdrawal quantity is insufficient.\")\n",
    "            return False\n",
    "        if quantity > crypto.quantity:\n",
    "            print(f\"Error: Insufficient {symbol} quantity. Available: {crypto.quantity}, Request: {quantity}\")\n",
    "            return False\n",
    "        \n",
    "        # Update quantity\n",
    "        crypto.quantity -= quantity\n",
    "        print(f\"Withdrew {quantity}{symbol}. Remaining: {crypto.quantity}\")\n",
    "\n",
    "        # Remove cryptocurrency if quantity is 0\n",
    "        if crypto.quantity == 0:\n",
    "            del self.holdings[symbol]\n",
    "            print(f\"{symbol} holding removed from the portfolio\")\n",
    "\n",
    "        return True\n",
    "\n"
   ]
  },
  {
   "cell_type": "code",
   "execution_count": 15,
   "id": "e62a1d11",
   "metadata": {},
   "outputs": [
    {
     "name": "stdout",
     "output_type": "stream",
     "text": [
      "Portfolio Total Value: $117200.00\n"
     ]
    }
   ],
   "source": [
    "# Create Cryptocurrency object\n",
    "bitcoin = Cryptocurrency(\"Bitcoin\", 117000,\"BTC\", 1)\n",
    "ethereum = Cryptocurrency(\"Ethereum\", 500, \"ETH\", 0.4)\n",
    "\n",
    "# Create Portfolio Object\n",
    "my_portfolio = portfolio()\n",
    "my_portfolio.add_crypto(bitcoin)\n",
    "my_portfolio.add_crypto(ethereum)\n",
    "\n",
    "# Calculate total Portfolio values\n",
    "total_value = my_portfolio.get_total_value()\n",
    "print(f\"Portfolio Total Value: ${total_value:.2f}\")"
   ]
  },
  {
   "cell_type": "code",
   "execution_count": 16,
   "id": "6e4b971b",
   "metadata": {},
   "outputs": [
    {
     "name": "stdout",
     "output_type": "stream",
     "text": [
      "New Bitcoin Price: $100000\n",
      "Updated Portfolio Value: $100200.00\n"
     ]
    }
   ],
   "source": [
    "bitcoin.updated_price(100000)\n",
    "print(f\"New Bitcoin Price: ${bitcoin.price}\")\n",
    "print(f\"Updated Portfolio Value: ${my_portfolio.get_total_value():.2f}\")"
   ]
  },
  {
   "cell_type": "code",
   "execution_count": 17,
   "id": "4961fca9",
   "metadata": {},
   "outputs": [
    {
     "name": "stdout",
     "output_type": "stream",
     "text": [
      "Withdrew 0.2ETH. Remaining: 0.2\n",
      "Portfolio Value after withdrawing 0.2 ETH: $100100.00\n"
     ]
    }
   ],
   "source": [
    "my_portfolio.withdraw_crypto(\"ETH\", 0.2)\n",
    "print(f\"Portfolio Value after withdrawing 0.2 ETH: ${my_portfolio.get_total_value():.2f}\")"
   ]
  }
 ],
 "metadata": {
  "kernelspec": {
   "display_name": "pythonz",
   "language": "python",
   "name": "python3"
  },
  "language_info": {
   "codemirror_mode": {
    "name": "ipython",
    "version": 3
   },
   "file_extension": ".py",
   "mimetype": "text/x-python",
   "name": "python",
   "nbconvert_exporter": "python",
   "pygments_lexer": "ipython3",
   "version": "3.10.11"
  }
 },
 "nbformat": 4,
 "nbformat_minor": 5
}

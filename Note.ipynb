{
 "cells": [
  {
   "cell_type": "markdown",
   "id": "52768d8e",
   "metadata": {},
   "source": [
    "### Key Rules to Know:\n",
    "\n",
    "Comments (#) –  Comments are like sticky notes in your code. They start with # and are ignored by Python, so they’re just for you or others to understand what the code does.<br>\n",
    "Example: # This calculates your age<br>\n",
    "Indentation (Spaces/Tabs) – Python uses them to group code (like paragraphs in a book).<br>\n",
    "Code Blocks – Sections of code that belong together (e.g., inside loops or functions).<br>\n",
    "Keywords – Special words Python reserves (e.g., if, for, while). Don’t use these as variable names!\n"
   ]
  },
  {
   "cell_type": "markdown",
   "id": "8b1c78f1",
   "metadata": {},
   "source": [
    "a = \"Hello World\"\n",
    "print(a)"
   ]
  },
  {
   "cell_type": "markdown",
   "id": "d4470274",
   "metadata": {},
   "source": [
    "f String - Formatted string literal, used to embed expressions inside string literals in python. You write an f string by prefixing the string with the letter f or F and then including variables inside curly brackets {}"
   ]
  },
  {
   "cell_type": "code",
   "execution_count": 1,
   "id": "2117e628",
   "metadata": {},
   "outputs": [
    {
     "name": "stdout",
     "output_type": "stream",
     "text": [
      "Hello Alice!\n"
     ]
    }
   ],
   "source": [
    "name = \"Alice\"\n",
    "print(f'Hello {name}!')"
   ]
  },
  {
   "cell_type": "code",
   "execution_count": null,
   "id": "a97e13ab",
   "metadata": {},
   "outputs": [],
   "source": [
    "# Input - Helps to receive user input\n",
    "# Example: Asking for a favorite crypto asset\n",
    "crypto = input(\"Enter your favorite crypto asset\")\n",
    "print(\"My favourite crypto asset is \" + crypto)"
   ]
  },
  {
   "cell_type": "code",
   "execution_count": null,
   "id": "3fff7a96",
   "metadata": {},
   "outputs": [
    {
     "name": "stdout",
     "output_type": "stream",
     "text": [
      "Welcome to our app, Mr. Daniel!\n"
     ]
    }
   ],
   "source": [
    "# Input example\n",
    "name = input(\"Enter your name: \")\n",
    "description = input(\"Enter your description\")\n",
    "print(f'Welcome to our app, {description} {name}!')"
   ]
  },
  {
   "cell_type": "code",
   "execution_count": null,
   "id": "56a98d6c",
   "metadata": {},
   "outputs": [
    {
     "name": "stdout",
     "output_type": "stream",
     "text": [
      "You can go ahead and vote now\n"
     ]
    }
   ],
   "source": [
    "age = int(input(\"Enter your age\"))\n",
    "if age < 18:\n",
    "    print(\"You are not allowed to vote\")\n",
    "else:\n",
    "    print(\"You can go ahead and vote now\")\n",
    "\n"
   ]
  },
  {
   "cell_type": "markdown",
   "id": "957a7fde",
   "metadata": {},
   "source": [
    "Data Types\n",
    "Sequence Data Tpes\n",
    "- list_example = [1, 2, 3, 4] - A List is an ordered collection of items\n",
    "- tuple_example = (1, 2, 3, 4) - A tuple is an ordered collecton of items, but immutable\n",
    "- dictionary_example = {\"Key1\":\"value\"} - A dictionary is a collection of key-value pairs\n",
    "- set_example = {1, 4, 8} - A set is an unordered collection of \"unique\" items\n",
    "\n",
    "\n",
    "None Data Type\n",
    "none_value = None  - Represents the absence of a value or a null value"
   ]
  },
  {
   "cell_type": "code",
   "execution_count": null,
   "id": "a95e8400",
   "metadata": {},
   "outputs": [
    {
     "name": "stdout",
     "output_type": "stream",
     "text": [
      "<class 'list'>\n"
     ]
    }
   ],
   "source": [
    "# Checking Data Types\n",
    "\n",
    "names = [\"ana\", \"john\", \"francis\"]\n",
    "print(type(names))"
   ]
  },
  {
   "cell_type": "code",
   "execution_count": null,
   "id": "0256ccbe",
   "metadata": {},
   "outputs": [
    {
     "name": "stdout",
     "output_type": "stream",
     "text": [
      "<class 'int'>\n"
     ]
    }
   ],
   "source": [
    "# Converting Data Types\n",
    "age = \"25\"\n",
    "age = int(age)  # Convert string to integer \n",
    "print(type(age))  # Check the type after conversion"
   ]
  },
  {
   "cell_type": "markdown",
   "id": "286d2c2a",
   "metadata": {},
   "source": [
    "DATA STRUCTURES\n",
    "A data structure is a way to organise , store and access data efficiently so it can be used effectively. In python, data structures are built in types that allow you manipulate data in different formats \n",
    "\n",
    "1. String - Ordered sequence of characters enclosed in single(''), double (\"\") or triple quotes(''' ''')"
   ]
  },
  {
   "cell_type": "code",
   "execution_count": null,
   "id": "3e653566",
   "metadata": {},
   "outputs": [],
   "source": [
    "# Common Methods and functions in strings\n",
    "#len - Returns the length of a string\n",
    "name = 'BlockChain'\n",
    "len(name)\n",
    "\n",
    "#.lower - Converts a string to lowercase\n",
    "name.lower()\n",
    "\n",
    "#upper - Converts a string to uppercase\n",
    "name.upper()\n",
    "\n",
    "#strip - Removes leading and trailing whitespace from a string\n",
    "name = \"   BlockChain   \"   \n",
    "name.strip()\n",
    "\n",
    "#.replace(old, new) - Replaces a substring with another substring\n",
    "crypto = 'eth'\n",
    "crypto.replace('eth', 'solana')\n",
    "\n",
    "#split - Splits a string into a list of substrings based on a delimiter\n",
    "y = \"Blockchain, crypto, web3\"\n",
    "y.split(\", \")  # Splits the string into a list at each comma followed by a space\n"
   ]
  },
  {
   "cell_type": "code",
   "execution_count": null,
   "id": "c397e808",
   "metadata": {},
   "outputs": [
    {
     "data": {
      "text/plain": [
       "True"
      ]
     },
     "execution_count": 11,
     "metadata": {},
     "output_type": "execute_result"
    }
   ],
   "source": [
    "# in - Checks if a substring exists within a string\n",
    "x = \"I am a Blockchain Analyst\"\n",
    "\"Blockchain\" in x  # Returns True if \"Blockchain\" is found in x"
   ]
  },
  {
   "cell_type": "markdown",
   "id": "48725c3c",
   "metadata": {},
   "source": [
    "2. LIST - An ordered, mutable, indexable collection of elements\n",
    "tokens = [\"ADA\", \"SOL\", \"ETH\"]"
   ]
  },
  {
   "cell_type": "code",
   "execution_count": null,
   "id": "9420b35b",
   "metadata": {},
   "outputs": [],
   "source": [
    "# Common Methods of a List\n",
    "\n",
    "# len - Returns the number of elements in a list\n",
    "tokens = [\"ADA\", \"SOL\", \"ETH\"]\n",
    "len(tokens)\n",
    "\n",
    "# append - Adds an element to the end of a list\n",
    "tokens = [\"ADA\", \"SOL\", \"ETH\"]\n",
    "tokens.append(\"BTC\")  # Adds \"BTC\" to the end of the list\n",
    "tokens\n",
    "\n",
    "# insert(index, element) - Inserts an element at a specific index in a list\n",
    "tokens = [\"ADA\", \"SOL\", \"ETH\", \"ADA\", \"DOT\"]\n",
    "tokens.insert(4, \"DOGE\")\n",
    "tokens\n",
    "\n",
    "# remove(element) - Removes the first occurrence of an element from a list\n",
    "tokens = [\"ADA\", \"SOL\", \"ETH\", \"ADA\", \"DOT\"]\n",
    "tokens.remove(\"ADA\")\n",
    "tokens\n",
    "\n",
    "# pop(index) - Removes and returns the element at a specific index in a list\n",
    "tokens = [\"ADA\", \"SOL\", \"ETH\", \"ADA\", \"DOT\"]\n",
    "tokens.pop(2)\n",
    "tokens"
   ]
  },
  {
   "cell_type": "code",
   "execution_count": null,
   "id": "500faa05",
   "metadata": {},
   "outputs": [
    {
     "data": {
      "text/plain": [
       "['ZCASH', 'DOT', 'ADA', 'ETH', 'SOL', 'ADA']"
      ]
     },
     "execution_count": 22,
     "metadata": {},
     "output_type": "execute_result"
    }
   ],
   "source": [
    "\n",
    "# sort() - Sorts the elements of a list in ascending order\n",
    "tokens = [\"ZCASH\", \"ADA\", \"SOL\", \"ETH\", \"ADA\", \"DOT\"]\n",
    "tokens.sort()  # Sorts the list in ascending order\n",
    "tokens\n",
    "\n",
    "# reverse() - Reverses the order of elements in a list\n",
    "tokens = [\"ADA\", \"SOL\", \"ETH\", \"ADA\", \"DOT\", \"ZCASH\"]\n",
    "tokens.reverse()  # Reverses the order of elements in the list\n",
    "tokens"
   ]
  },
  {
   "cell_type": "code",
   "execution_count": null,
   "id": "812f0e8c",
   "metadata": {},
   "outputs": [
    {
     "data": {
      "text/plain": [
       "['SOL', 'ETH']"
      ]
     },
     "execution_count": 25,
     "metadata": {},
     "output_type": "execute_result"
    }
   ],
   "source": [
    "# INDEXING AND SLICING\n",
    "# Indexing - Accessing elements in a list by their index\n",
    "tokens = [\"ADA\", \"SOL\", \"ETH\", \"ADA\", \"DOT\"]\n",
    "tokens[3]\n",
    "\n",
    "# Slicing - Accessing a range of elements in a list\n",
    "tokens = [\"ADA\", \"SOL\", \"ETH\", \"ADA\", \"DOT\"]\n",
    "tokens[1:3]  # Returns elements from index 1 to index 2 (exclusive of index 3)"
   ]
  },
  {
   "cell_type": "code",
   "execution_count": null,
   "id": "398cde19",
   "metadata": {},
   "outputs": [
    {
     "data": {
      "text/plain": [
       "{'address': '0x1A23jdd', 'balance': 1000, 'is_active': True}"
      ]
     },
     "execution_count": 27,
     "metadata": {},
     "output_type": "execute_result"
    }
   ],
   "source": [
    "# DICTIONARY - A collection of key-value pairs\n",
    "wallet = {\n",
    "    \"address\" : \"0x1A23jdd\",\n",
    "    \"balance\" : 1000,\n",
    "    \"is_active\" : True \n",
    "}\n",
    "wallet"
   ]
  },
  {
   "cell_type": "code",
   "execution_count": null,
   "id": "3fb55387",
   "metadata": {},
   "outputs": [
    {
     "data": {
      "text/plain": [
       "{'address': '0x1A23jdd', 'balance': 2000}"
      ]
     },
     "execution_count": 35,
     "metadata": {},
     "output_type": "execute_result"
    }
   ],
   "source": [
    "# Common Methods of a Dictionary\n",
    "\n",
    "# dict[key] - Accesses the value associated with a specific key\n",
    "wallet = {\n",
    "    \"address\" : \"0x1A23jdd\",\n",
    "    \"balance\" : 1000,\n",
    "    \"is_active\" : True \n",
    "}\n",
    "wallet[\"balance\"]\n",
    "\n",
    "\n",
    "# .get(key) - Retrieves the value associated with a key, returning None if the key does not exist\n",
    "wallet.get(\"address\")\n",
    "\n",
    "# .keys() - Returns a list of all keys in the dictionary\n",
    "wallet.keys()\n",
    "\n",
    "# .values() - Returns a list of all values in the dictionary\n",
    "wallet.values()\n",
    "\n",
    "# .items() - Returns a list of key-value pairs in the dictionary\n",
    "wallet.items()\n",
    "\n",
    "# .update(other_dict) - Merges another dictionary into the current dictionary\n",
    "wallet.update({\"balance\" : 2000, \"is_active\" : False})\n",
    "wallet\n",
    "\n",
    "# .pop(key) - Removes and returns the value associated with a key\n",
    "wallet.pop(\"is_active\")\n",
    "wallet"
   ]
  },
  {
   "cell_type": "code",
   "execution_count": null,
   "id": "3d5b6a09",
   "metadata": {},
   "outputs": [],
   "source": [
    "#TUPLE\n",
    "# A tuple is an ordered, immutable collection of elements\n",
    "\n",
    "block = ('BTC', 2025, 'halving')"
   ]
  },
  {
   "cell_type": "code",
   "execution_count": null,
   "id": "cd6e8cb9",
   "metadata": {},
   "outputs": [
    {
     "data": {
      "text/plain": [
       "True"
      ]
     },
     "execution_count": 9,
     "metadata": {},
     "output_type": "execute_result"
    }
   ],
   "source": [
    "# COMMON METHODS & FUNCTIONS OF A TUPLE\n",
    "\n",
    "# len - Returns the number of elements in a tuple\n",
    "len(block)\n",
    "\n",
    "# .count(element) - Returns the number of occurrences of an element in a tuple\n",
    "block = ('BTC', 2025, 'halving', 'BTC')\n",
    "block.count('BTC')\n",
    "\n",
    "# .index(element) - Returns the index of the first occurrence of an element in a tuple\n",
    "block = ('BTC', 2025, 'halving', 'BTC', 2025)\n",
    "block.index(2025)\n",
    "\n",
    "# in - Checks if an element exists in a tuple\n",
    "block = ('BTC', 2025, 'halving', 'BTC', 2025)\n",
    "'halving' in block"
   ]
  },
  {
   "cell_type": "code",
   "execution_count": null,
   "id": "d9def04e",
   "metadata": {},
   "outputs": [],
   "source": [
    "# SET\n",
    "# A set is an unordered, unindexed, mutable collection of unique elements\n",
    "\n",
    "wallet = {'0xAbsdg', '0xdagde', '0xhddas'}\n"
   ]
  },
  {
   "cell_type": "code",
   "execution_count": null,
   "id": "a35da85d",
   "metadata": {},
   "outputs": [
    {
     "data": {
      "text/plain": [
       "True"
      ]
     },
     "execution_count": 19,
     "metadata": {},
     "output_type": "execute_result"
    }
   ],
   "source": [
    "# Common Methods of a Set\n",
    "\n",
    "# .add(element) - Adds an element to a set\n",
    "wallet = {'0xAbsdg', '0xdagde', '0xhddas'}\n",
    "wallet.add('0xnewaddress')  # Adds a new address to the set\n",
    "wallet\n",
    "\n",
    "# .remove(element) - Removes an element from a set, raising KeyError if the element does not exist\n",
    "wallet = {'0xAbsdg', '0xdagde', '0xhddas'}\n",
    "wallet.remove('0xdagde')  # Removes '0xdagde' from the set\n",
    "wallet\n",
    "\n",
    "# .discard(element) - Removes an element from a set, but does not raise an error if the element does not exist\n",
    "wallet = {'0xAbsdg', '0xdagde', '0xhddas'}\n",
    "wallet.discard('0xhddas')  # Does not raise an error if '0xnonexistent' is not in the set\n",
    "wallet\n",
    "\n",
    "# .union(other_set) - Returns a new set containing elements from both sets\n",
    "wallet_a = {'0xAbsdg', '0xdagde'}\n",
    "wallet_b = {'0xhddas', '0xhashd'}\n",
    "wallet_a.union(wallet_b)  # Combines both sets into a new set\n",
    "\n",
    "# .intersection(other_set) - Returns a new set containing elements that are common to both sets\n",
    "wallet_x = {'0xAbsdg', '0xdagde'}\n",
    "wallet_y = {'0xhddas', '0xdagde'}\n",
    "wallet_x.intersection(wallet_y)  # Returns a new set with common elements\n",
    "\n",
    "# .difference(other_set) - Returns a new set containing elements that are in the first set but not in the second set\n",
    "wallet_y.difference(wallet_x)\n",
    "\n",
    "# .in - Checks if an element exists in a set\n",
    "wallet = {'0xAbsdg', '0xdagde', '0xhddas'}\n",
    "'0xdagde' in wallet  "
   ]
  },
  {
   "cell_type": "markdown",
   "id": "0d8b5dfb",
   "metadata": {},
   "source": [
    "# NESTED DATA STRUCTURE\n",
    "# A nested data structure is a data structure that contains other data structures within it\n"
   ]
  },
  {
   "cell_type": "code",
   "execution_count": null,
   "id": "e0fbbc2c",
   "metadata": {},
   "outputs": [
    {
     "name": "stdout",
     "output_type": "stream",
     "text": [
      "6\n"
     ]
    }
   ],
   "source": [
    "# 1. List of Lists\n",
    "# A list of lists is a nested data structure where each element is a list\n",
    "\n",
    "nested_list = [\n",
    "    [1, 2, 3],\n",
    "    [4, 5, 6],\n",
    "    [7, 8, 9]\n",
    "]\n",
    "\n",
    "print(nested_list[1][2])\n"
   ]
  },
  {
   "cell_type": "code",
   "execution_count": null,
   "id": "ed374b1e",
   "metadata": {},
   "outputs": [
    {
     "data": {
      "text/plain": [
       "'Divine'"
      ]
     },
     "execution_count": 29,
     "metadata": {},
     "output_type": "execute_result"
    }
   ],
   "source": [
    "# 2. List of Dictionaries\n",
    "# A list of dictionaries is a nested data structure where each element is a dictionary\n",
    "\n",
    "dicts = [\n",
    "    {\"name\": \"Alice\", \"age\": 30},\n",
    "    {\"name\": \"Bob\", \"age\": 25},\n",
    "    {\"name\": \"Charlie\", \"age\": 35}\n",
    "]\n",
    "\n",
    "dicts[0]['age']\n",
    "\n",
    "\n",
    "users = [\n",
    "    {'name':'Maryam', 'wallet':'0xADF'},\n",
    "    {'name': 'Bob', 'wallet':'0xJGH'},\n",
    "    {'name': 'Rotimi', 'wallet':'0xKKH'},\n",
    "    {'name': 'Mario', 'wallet':'0xEWH'},\n",
    "    {'name': 'Divine', 'wallet':'0xHFH'},\n",
    "    {'name': 'Wale', 'wallet':'0xJGH'}\n",
    "]\n",
    "\n",
    "users[4]['name']"
   ]
  },
  {
   "cell_type": "code",
   "execution_count": null,
   "id": "5138c96b",
   "metadata": {},
   "outputs": [
    {
     "data": {
      "text/plain": [
       "'SOL'"
      ]
     },
     "execution_count": 30,
     "metadata": {},
     "output_type": "execute_result"
    }
   ],
   "source": [
    "# 3. Dictionary of Lists\n",
    "# A dictionary of lists is a nested data structure where each key maps to a list\n",
    "\n",
    "dict_of_lists = {\n",
    "    \"0xgasg\": [\"ETH\", \"BTC\", \"SOL\"],\n",
    "    \"0xhahs\": [\"BTC\", \"UNI\", \"ADA\"]\n",
    "}\n",
    "\n",
    "dict_of_lists['0xgasg'][2] "
   ]
  },
  {
   "cell_type": "code",
   "execution_count": null,
   "id": "db7e0fce",
   "metadata": {},
   "outputs": [
    {
     "name": "stdout",
     "output_type": "stream",
     "text": [
      "1000\n"
     ]
    }
   ],
   "source": [
    "# Nested Dictionart - Dictionary containing other dictionaries as values\n",
    "\n",
    "user_profile = {\n",
    "    '0xasv': {'name': 'Alice', 'balance': 1000},\n",
    "    '0xbsw': {'name': 'Bob', 'balance': 2000}\n",
    "}\n",
    "\n",
    "print(user_profile['0xasv']['balance'])\n"
   ]
  },
  {
   "cell_type": "code",
   "execution_count": null,
   "id": "e5152884",
   "metadata": {},
   "outputs": [
    {
     "data": {
      "text/plain": [
       "'0xABC'"
      ]
     },
     "execution_count": 32,
     "metadata": {},
     "output_type": "execute_result"
    }
   ],
   "source": [
    "# EXAMPLE\n",
    "\n",
    "transactions = [\n",
    "    {\"tx_id\": \"0x1\", \"from\": \"0xABC\", \"to\": \"0xDEF\", \"amount\": 100},\n",
    "    {\"tx_id\": \"0x2\", \"from\": \"0xDEF\", \"to\": \"0x123\", \"amount\": 200}\n",
    "]\n",
    "\n",
    "transactions[0]['from']"
   ]
  }
 ],
 "metadata": {
  "kernelspec": {
   "display_name": "pythonz",
   "language": "python",
   "name": "python3"
  },
  "language_info": {
   "codemirror_mode": {
    "name": "ipython",
    "version": 3
   },
   "file_extension": ".py",
   "mimetype": "text/x-python",
   "name": "python",
   "nbconvert_exporter": "python",
   "pygments_lexer": "ipython3",
   "version": "3.10.11"
  }
 },
 "nbformat": 4,
 "nbformat_minor": 5
}
